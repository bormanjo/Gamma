{
 "cells": [
  {
   "cell_type": "code",
   "execution_count": 2,
   "metadata": {
    "collapsed": true
   },
   "outputs": [],
   "source": [
    "import yahoo_finance as yf"
   ]
  },
  {
   "cell_type": "code",
   "execution_count": 6,
   "metadata": {
    "collapsed": false
   },
   "outputs": [],
   "source": [
    "yahoo = yf.Share(\"YHOO\")"
   ]
  },
  {
   "cell_type": "code",
   "execution_count": null,
   "metadata": {
    "collapsed": true
   },
   "outputs": [],
   "source": []
  },
  {
   "cell_type": "code",
   "execution_count": 7,
   "metadata": {
    "collapsed": false
   },
   "outputs": [
    {
     "ename": "AttributeError",
     "evalue": "'Share' object has no attribute 'open_price'",
     "output_type": "error",
     "traceback": [
      "\u001b[0;31m---------------------------------------------------------------------------\u001b[0m",
      "\u001b[0;31mAttributeError\u001b[0m                            Traceback (most recent call last)",
      "\u001b[0;32m<ipython-input-7-a4d2170c583d>\u001b[0m in \u001b[0;36m<module>\u001b[0;34m()\u001b[0m\n\u001b[0;32m----> 1\u001b[0;31m \u001b[0mprint\u001b[0m\u001b[0;34m(\u001b[0m\u001b[0myahoo\u001b[0m\u001b[0;34m.\u001b[0m\u001b[0mopen_price\u001b[0m\u001b[0;34m(\u001b[0m\u001b[0;34m)\u001b[0m\u001b[0;34m)\u001b[0m\u001b[0;34m\u001b[0m\u001b[0m\n\u001b[0m",
      "\u001b[0;31mAttributeError\u001b[0m: 'Share' object has no attribute 'open_price'"
     ]
    }
   ],
   "source": [
    "print(yahoo.open_price())"
   ]
  },
  {
   "cell_type": "code",
   "execution_count": 12,
   "metadata": {
    "collapsed": false
   },
   "outputs": [
    {
     "name": "stdout",
     "output_type": "stream",
     "text": [
      "31.80 ,  31.26\n"
     ]
    }
   ],
   "source": [
    "print(yahoo.get_price(),\", \", yahoo.get_open())"
   ]
  },
  {
   "cell_type": "code",
   "execution_count": 13,
   "metadata": {
    "collapsed": false
   },
   "outputs": [
    {
     "ename": "AttributeError",
     "evalue": "'module' object has no attribute 'refresh'",
     "output_type": "error",
     "traceback": [
      "\u001b[0;31m---------------------------------------------------------------------------\u001b[0m",
      "\u001b[0;31mAttributeError\u001b[0m                            Traceback (most recent call last)",
      "\u001b[0;32m<ipython-input-13-3a22106c16ad>\u001b[0m in \u001b[0;36m<module>\u001b[0;34m()\u001b[0m\n\u001b[0;32m----> 1\u001b[0;31m \u001b[0myf\u001b[0m\u001b[0;34m.\u001b[0m\u001b[0mrefresh\u001b[0m\u001b[0;34m\u001b[0m\u001b[0m\n\u001b[0m",
      "\u001b[0;31mAttributeError\u001b[0m: 'module' object has no attribute 'refresh'"
     ]
    }
   ],
   "source": [
    "yf.refresh"
   ]
  },
  {
   "cell_type": "code",
   "execution_count": 14,
   "metadata": {
    "collapsed": false
   },
   "outputs": [
    {
     "ename": "NameError",
     "evalue": "name 'refresh' is not defined",
     "output_type": "error",
     "traceback": [
      "\u001b[0;31m---------------------------------------------------------------------------\u001b[0m",
      "\u001b[0;31mNameError\u001b[0m                                 Traceback (most recent call last)",
      "\u001b[0;32m<ipython-input-14-1a6030e09d5d>\u001b[0m in \u001b[0;36m<module>\u001b[0;34m()\u001b[0m\n\u001b[0;32m----> 1\u001b[0;31m \u001b[0mrefresh\u001b[0m\u001b[0;34m(\u001b[0m\u001b[0;34m)\u001b[0m\u001b[0;34m\u001b[0m\u001b[0m\n\u001b[0m",
      "\u001b[0;31mNameError\u001b[0m: name 'refresh' is not defined"
     ]
    }
   ],
   "source": [
    "refresh()"
   ]
  },
  {
   "cell_type": "code",
   "execution_count": 15,
   "metadata": {
    "collapsed": false
   },
   "outputs": [
    {
     "ename": "AttributeError",
     "evalue": "'module' object has no attribute 'refresh'",
     "output_type": "error",
     "traceback": [
      "\u001b[0;31m---------------------------------------------------------------------------\u001b[0m",
      "\u001b[0;31mAttributeError\u001b[0m                            Traceback (most recent call last)",
      "\u001b[0;32m<ipython-input-15-a7ae1574d0d0>\u001b[0m in \u001b[0;36m<module>\u001b[0;34m()\u001b[0m\n\u001b[0;32m----> 1\u001b[0;31m \u001b[0myf\u001b[0m\u001b[0;34m.\u001b[0m\u001b[0mrefresh\u001b[0m\u001b[0;34m(\u001b[0m\u001b[0;34m)\u001b[0m\u001b[0;34m\u001b[0m\u001b[0m\n\u001b[0m",
      "\u001b[0;31mAttributeError\u001b[0m: 'module' object has no attribute 'refresh'"
     ]
    }
   ],
   "source": [
    "yf.refresh()"
   ]
  },
  {
   "cell_type": "code",
   "execution_count": 16,
   "metadata": {
    "collapsed": true
   },
   "outputs": [],
   "source": [
    "yahoo.refresh()"
   ]
  },
  {
   "cell_type": "code",
   "execution_count": 17,
   "metadata": {
    "collapsed": false
   },
   "outputs": [
    {
     "name": "stdout",
     "output_type": "stream",
     "text": [
      "31.79\n"
     ]
    }
   ],
   "source": [
    "print(yahoo.get_price())"
   ]
  },
  {
   "cell_type": "code",
   "execution_count": null,
   "metadata": {
    "collapsed": false
   },
   "outputs": [
    {
     "name": "stdout",
     "output_type": "stream",
     "text": [
      "Populating the interactive namespace from numpy and matplotlib\n"
     ]
    }
   ],
   "source": [
    "running = True\n",
    "%pylab inline"
   ]
  },
  {
   "cell_type": "code",
   "execution_count": null,
   "metadata": {
    "collapsed": false
   },
   "outputs": [],
   "source": [
    "openPrice = float(yahoo.get_open())\n",
    "while running:\n",
    "    yahoo.refresh()\n",
    "    currentPrice = float(yahoo.get_price())\n",
    "    plot(openPrice-currentPrice)"
   ]
  },
  {
   "cell_type": "raw",
   "metadata": {},
   "source": []
  },
  {
   "cell_type": "code",
   "execution_count": null,
   "metadata": {
    "collapsed": true
   },
   "outputs": [],
   "source": []
  },
  {
   "cell_type": "raw",
   "metadata": {},
   "source": [
    "running = True"
   ]
  },
  {
   "cell_type": "code",
   "execution_count": null,
   "metadata": {
    "collapsed": true
   },
   "outputs": [],
   "source": [
    "openPrice = float(yahoo.get_price)\n",
    "while running:\n",
    "    yahoo.refresh()\n",
    "    currentPrice = float(yahoo.get_price())\n",
    "    print(openPrice-currentPrice)"
   ]
  },
  {
   "cell_type": "code",
   "execution_count": 1,
   "metadata": {
    "collapsed": false
   },
   "outputs": [
    {
     "ename": "NameError",
     "evalue": "name 'yahoo' is not defined",
     "output_type": "error",
     "traceback": [
      "\u001b[0;31m---------------------------------------------------------------------------\u001b[0m",
      "\u001b[0;31mNameError\u001b[0m                                 Traceback (most recent call last)",
      "\u001b[0;32m<ipython-input-1-6963565338be>\u001b[0m in \u001b[0;36m<module>\u001b[0;34m()\u001b[0m\n\u001b[0;32m----> 1\u001b[0;31m \u001b[0mprint\u001b[0m\u001b[0;34m(\u001b[0m\u001b[0myahoo\u001b[0m\u001b[0;34m.\u001b[0m\u001b[0mget_price\u001b[0m\u001b[0;34m(\u001b[0m\u001b[0;34m)\u001b[0m\u001b[0;34m)\u001b[0m\u001b[0;34m\u001b[0m\u001b[0m\n\u001b[0m",
      "\u001b[0;31mNameError\u001b[0m: name 'yahoo' is not defined"
     ]
    }
   ],
   "source": [
    "print(yahoo.get_price())"
   ]
  },
  {
   "cell_type": "code",
   "execution_count": 2,
   "metadata": {
    "collapsed": false
   },
   "outputs": [
    {
     "ename": "NameError",
     "evalue": "name 'Share' is not defined",
     "output_type": "error",
     "traceback": [
      "\u001b[0;31m---------------------------------------------------------------------------\u001b[0m",
      "\u001b[0;31mNameError\u001b[0m                                 Traceback (most recent call last)",
      "\u001b[0;32m<ipython-input-2-c1290d5b313d>\u001b[0m in \u001b[0;36m<module>\u001b[0;34m()\u001b[0m\n\u001b[0;32m----> 1\u001b[0;31m \u001b[0myahoo\u001b[0m \u001b[0;34m=\u001b[0m \u001b[0mShare\u001b[0m\u001b[0;34m(\u001b[0m\u001b[0;34m'YHOO'\u001b[0m\u001b[0;34m)\u001b[0m\u001b[0;34m\u001b[0m\u001b[0m\n\u001b[0m",
      "\u001b[0;31mNameError\u001b[0m: name 'Share' is not defined"
     ]
    }
   ],
   "source": [
    "yahoo = Share('YHOO')"
   ]
  },
  {
   "cell_type": "code",
   "execution_count": 3,
   "metadata": {
    "collapsed": false
   },
   "outputs": [
    {
     "ename": "NameError",
     "evalue": "name 'yf' is not defined",
     "output_type": "error",
     "traceback": [
      "\u001b[0;31m---------------------------------------------------------------------------\u001b[0m",
      "\u001b[0;31mNameError\u001b[0m                                 Traceback (most recent call last)",
      "\u001b[0;32m<ipython-input-3-68feaedc47eb>\u001b[0m in \u001b[0;36m<module>\u001b[0;34m()\u001b[0m\n\u001b[0;32m----> 1\u001b[0;31m \u001b[0myahoo\u001b[0m \u001b[0;34m=\u001b[0m \u001b[0myf\u001b[0m\u001b[0;34m.\u001b[0m\u001b[0mShare\u001b[0m\u001b[0;34m(\u001b[0m\u001b[0;34m'YHOO'\u001b[0m\u001b[0;34m)\u001b[0m\u001b[0;34m\u001b[0m\u001b[0m\n\u001b[0m",
      "\u001b[0;31mNameError\u001b[0m: name 'yf' is not defined"
     ]
    }
   ],
   "source": [
    "yahoo = yf.Share('YHOO')"
   ]
  },
  {
   "cell_type": "code",
   "execution_count": 8,
   "metadata": {
    "collapsed": false
   },
   "outputs": [
    {
     "name": "stdout",
     "output_type": "stream",
     "text": [
      "Populating the interactive namespace from numpy and matplotlib\n"
     ]
    }
   ],
   "source": [
    "%pylab inline\n",
    "import yahoo_finance as yf"
   ]
  },
  {
   "cell_type": "code",
   "execution_count": 9,
   "metadata": {
    "collapsed": false
   },
   "outputs": [],
   "source": [
    "google = yf.Share('GOOG')"
   ]
  },
  {
   "cell_type": "code",
   "execution_count": 18,
   "metadata": {
    "collapsed": false
   },
   "outputs": [
    {
     "name": "stdout",
     "output_type": "stream",
     "text": [
      "[{'High': '539.872444', 'Symbol': 'GOOG', 'Volume': '5606400', 'Low': '515.522339', 'Open': '515.862322', 'Date': '2015-01-30', 'Adj_Close': '534.522445', 'Close': '534.522445'}, {'High': '511.092313', 'Symbol': 'GOOG', 'Volume': '4186400', 'Low': '501.202274', 'Open': '511.002313', 'Date': '2015-01-29', 'Adj_Close': '510.662331', 'Close': '510.662331'}, {'High': '522.992349', 'Symbol': 'GOOG', 'Volume': '1683800', 'Low': '510.002318', 'Open': '522.782423', 'Date': '2015-01-28', 'Adj_Close': '510.002318', 'Close': '510.002318'}, {'High': '530.702398', 'Symbol': 'GOOG', 'Volume': '1904000', 'Low': '518.192381', 'Open': '529.972369', 'Date': '2015-01-27', 'Adj_Close': '518.63237', 'Close': '518.63237'}, {'High': '539.002444', 'Symbol': 'GOOG', 'Volume': '1543700', 'Low': '529.672413', 'Open': '538.532466', 'Date': '2015-01-26', 'Adj_Close': '535.212448', 'Close': '535.212448'}, {'High': '542.172453', 'Symbol': 'GOOG', 'Volume': '2281700', 'Low': '533.002407', 'Open': '535.592457', 'Date': '2015-01-23', 'Adj_Close': '539.952437', 'Close': '539.952437'}, {'High': '536.332463', 'Symbol': 'GOOG', 'Volume': '2676900', 'Low': '519.702382', 'Open': '521.482349', 'Date': '2015-01-22', 'Adj_Close': '534.39245', 'Close': '534.39245'}, {'High': '519.282407', 'Symbol': 'GOOG', 'Volume': '2268700', 'Low': '506.202315', 'Open': '507.252283', 'Date': '2015-01-21', 'Adj_Close': '518.042312', 'Close': '518.042312'}, {'High': '512.502307', 'Symbol': 'GOOG', 'Volume': '2227900', 'Low': '506.018277', 'Open': '511.002313', 'Date': '2015-01-20', 'Adj_Close': '506.902294', 'Close': '506.902294'}, {'High': '508.1923', 'Symbol': 'GOOG', 'Volume': '2298300', 'Low': '500.002267', 'Open': '500.012273', 'Date': '2015-01-16', 'Adj_Close': '508.082288', 'Close': '508.082288'}, {'High': '505.682273', 'Symbol': 'GOOG', 'Volume': '2715800', 'Low': '497.762267', 'Open': '505.572291', 'Date': '2015-01-15', 'Adj_Close': '501.792271', 'Close': '501.792271'}, {'High': '503.232286', 'Symbol': 'GOOG', 'Volume': '2235700', 'Low': '493.002234', 'Open': '494.652237', 'Date': '2015-01-14', 'Adj_Close': '500.872267', 'Close': '500.872267'}, {'High': '502.982302', 'Symbol': 'GOOG', 'Volume': '2370500', 'Low': '492.392254', 'Open': '498.842256', 'Date': '2015-01-13', 'Adj_Close': '496.182251', 'Close': '496.182251'}, {'High': '495.978261', 'Symbol': 'GOOG', 'Volume': '2322400', 'Low': '487.562205', 'Open': '494.942247', 'Date': '2015-01-12', 'Adj_Close': '492.552209', 'Close': '492.552209'}, {'High': '504.922285', 'Symbol': 'GOOG', 'Volume': '2069400', 'Low': '494.792239', 'Open': '504.7623', 'Date': '2015-01-09', 'Adj_Close': '496.172274', 'Close': '496.172274'}, {'High': '503.4823', 'Symbol': 'GOOG', 'Volume': '3353600', 'Low': '491.002212', 'Open': '497.992238', 'Date': '2015-01-08', 'Adj_Close': '502.682255', 'Close': '502.682255'}, {'High': '507.246285', 'Symbol': 'GOOG', 'Volume': '2065100', 'Low': '499.652247', 'Open': '507.002299', 'Date': '2015-01-07', 'Adj_Close': '501.102268', 'Close': '501.102268'}, {'High': '516.177334', 'Symbol': 'GOOG', 'Volume': '2899900', 'Low': '501.052266', 'Open': '515.002358', 'Date': '2015-01-06', 'Adj_Close': '501.962262', 'Close': '501.962262'}, {'High': '524.332389', 'Symbol': 'GOOG', 'Volume': '2059800', 'Low': '513.062315', 'Open': '523.262377', 'Date': '2015-01-05', 'Adj_Close': '513.872306', 'Close': '513.872306'}, {'High': '531.272443', 'Symbol': 'GOOG', 'Volume': '1447600', 'Low': '524.102327', 'Open': '529.012399', 'Date': '2015-01-02', 'Adj_Close': '524.812404', 'Close': '524.812404'}]\n"
     ]
    }
   ],
   "source": [
    "print(google.get_historical('2015-01-01', '2015-02-01'))"
   ]
  },
  {
   "cell_type": "code",
   "execution_count": null,
   "metadata": {
    "collapsed": false
   },
   "outputs": [],
   "source": []
  },
  {
   "cell_type": "code",
   "execution_count": 14,
   "metadata": {
    "collapsed": false
   },
   "outputs": [
    {
     "data": {
      "text/plain": [
       "[<matplotlib.lines.Line2D at 0x108ed7160>]"
      ]
     },
     "execution_count": 14,
     "metadata": {},
     "output_type": "execute_result"
    },
    {
     "data": {
      "image/png": "[encoded data removed]",
      "text/plain": [
       "<matplotlib.figure.Figure at 0x10863b208>"
      ]
     },
     "metadata": {},
     "output_type": "display_data"
    }
   ],
   "source": [
    "plot(priceList)"
   ]
  },
  {
   "cell_type": "code",
   "execution_count": null,
   "metadata": {
    "collapsed": true
   },
   "outputs": [],
   "source": [
    "%matplotlib notebook\n",
    "google.refresh()\n",
    "plot(google.get_price())"
   ]
  },
  {
   "cell_type": "code",
   "execution_count": 20,
   "metadata": {
    "collapsed": true
   },
   "outputs": [],
   "source": [
    "%matplotlib notebook"
   ]
  },
  {
   "cell_type": "code",
   "execution_count": 29,
   "metadata": {
    "collapsed": false
   },
   "outputs": [
    {
     "data": {
      "application/javascript": [
       "/* Put everything inside the global mpl namespace */\n",
       "window.mpl = {};\n",
       "\n",
       "mpl.get_websocket_type = function() {\n",
       "    if (typeof(WebSocket) !== 'undefined') {\n",
       "        return WebSocket;\n",
       "    } else if (typeof(MozWebSocket) !== 'undefined') {\n",
       "        return MozWebSocket;\n",
       "    } else {\n",
       "        alert('Your browser does not have WebSocket support.' +\n",
       "              'Please try Chrome, Safari or Firefox ≥ 6. ' +\n",
       "              'Firefox 4 and 5 are also supported but you ' +\n",
       "              'have to enable WebSockets in about:config.');\n",
       "    };\n",
       "}\n",
       "\n",
       "mpl.figure = function(figure_id, websocket, ondownload, parent_element) {\n",
       "    this.id = figure_id;\n",
       "\n",
       "    this.ws = websocket;\n",
       "\n",
       "    this.supports_binary = (this.ws.binaryType != undefined);\n",
       "\n",
       "    if (!this.supports_binary) {\n",
       "        var warnings = document.getElementById(\"mpl-warnings\");\n",
       "        if (warnings) {\n",
       "            warnings.style.display = 'block';\n",
       "            warnings.textContent = (\n",
       "                \"This browser does not support binary websocket messages. \" +\n",
       "                    \"Performance may be slow.\");\n",
       "        }\n",
       "    }\n",
       "\n",
       "    this.imageObj = new Image();\n",
       "\n",
       "    this.context = undefined;\n",
       "    this.message = undefined;\n",
       "    this.canvas = undefined;\n",
       "    this.rubberband_canvas = undefined;\n",
       "    this.rubberband_context = undefined;\n",
       "    this.format_dropdown = undefined;\n",
       "\n",
       "    this.image_mode = 'full';\n",
       "\n",
       "    this.root = $('<div/>');\n",
       "    this._root_extra_style(this.root)\n",
       "    this.root.attr('style', 'display: inline-block');\n",
       "\n",
       "    $(parent_element).append(this.root);\n",
       "\n",
       "    this._init_header(this);\n",
       "    this._init_canvas(this);\n",
       "    this._init_toolbar(this);\n",
       "\n",
       "    var fig = this;\n",
       "\n",
       "    this.waiting = false;\n",
       "\n",
       "    this.ws.onopen =  function () {\n",
       "            fig.send_message(\"supports_binary\", {value: fig.supports_binary});\n",
       "            fig.send_message(\"send_image_mode\", {});\n",
       "            fig.send_message(\"refresh\", {});\n",
       "        }\n",
       "\n",
       "    this.imageObj.onload = function() {\n",
       "            if (fig.image_mode == 'full') {\n",
       "                // Full images could contain transparency (where diff images\n",
       "                // almost always do), so we need to clear the canvas so that\n",
       "                // there is no ghosting.\n",
       "                fig.context.clearRect(0, 0, fig.canvas.width, fig.canvas.height);\n",
       "            }\n",
       "            fig.context.drawImage(fig.imageObj, 0, 0);\n",
       "            fig.waiting = false;\n",
       "        };\n",
       "\n",
       "    this.imageObj.onunload = function() {\n",
       "        this.ws.close();\n",
       "    }\n",
       "\n",
       "    this.ws.onmessage = this._make_on_message_function(this);\n",
       "\n",
       "    this.ondownload = ondownload;\n",
       "}\n",
       "\n",
       "mpl.figure.prototype._init_header = function() {\n",
       "    var titlebar = $(\n",
       "        '<div class=\"ui-dialog-titlebar ui-widget-header ui-corner-all ' +\n",
       "        'ui-helper-clearfix\"/>');\n",
       "    var titletext = $(\n",
       "        '<div class=\"ui-dialog-title\" style=\"width: 100%; ' +\n",
       "        'text-align: center; padding: 3px;\"/>');\n",
       "    titlebar.append(titletext)\n",
       "    this.root.append(titlebar);\n",
       "    this.header = titletext[0];\n",
       "}\n",
       "\n",
       "\n",
       "\n",
       "mpl.figure.prototype._canvas_extra_style = function(canvas_div) {\n",
       "\n",
       "}\n",
       "\n",
       "\n",
       "mpl.figure.prototype._root_extra_style = function(canvas_div) {\n",
       "\n",
       "}\n",
       "\n",
       "mpl.figure.prototype._init_canvas = function() {\n",
       "    var fig = this;\n",
       "\n",
       "    var canvas_div = $('<div/>');\n",
       "\n",
       "    canvas_div.attr('style', 'position: relative; clear: both; outline: 0');\n",
       "\n",
       "    function canvas_keyboard_event(event) {\n",
       "        return fig.key_event(event, event['data']);\n",
       "    }\n",
       "\n",
       "    canvas_div.keydown('key_press', canvas_keyboard_event);\n",
       "    canvas_div.keyup('key_release', canvas_keyboard_event);\n",
       "    this.canvas_div = canvas_div\n",
       "    this._canvas_extra_style(canvas_div)\n",
       "    this.root.append(canvas_div);\n",
       "\n",
       "    var canvas = $('<canvas/>');\n",
       "    canvas.addClass('mpl-canvas');\n",
       "    canvas.attr('style', \"left: 0; top: 0; z-index: 0; outline: 0\")\n",
       "\n",
       "    this.canvas = canvas[0];\n",
       "    this.context = canvas[0].getContext(\"2d\");\n",
       "\n",
       "    var rubberband = $('<canvas/>');\n",
       "    rubberband.attr('style', \"position: absolute; left: 0; top: 0; z-index: 1;\")\n",
       "\n",
       "    var pass_mouse_events = true;\n",
       "\n",
       "    canvas_div.resizable({\n",
       "        start: function(event, ui) {\n",
       "            pass_mouse_events = false;\n",
       "        },\n",
       "        resize: function(event, ui) {\n",
       "            fig.request_resize(ui.size.width, ui.size.height);\n",
       "        },\n",
       "        stop: function(event, ui) {\n",
       "            pass_mouse_events = true;\n",
       "            fig.request_resize(ui.size.width, ui.size.height);\n",
       "        },\n",
       "    });\n",
       "\n",
       "    function mouse_event_fn(event) {\n",
       "        if (pass_mouse_events)\n",
       "            return fig.mouse_event(event, event['data']);\n",
       "    }\n",
       "\n",
       "    rubberband.mousedown('button_press', mouse_event_fn);\n",
       "    rubberband.mouseup('button_release', mouse_event_fn);\n",
       "    // Throttle sequential mouse events to 1 every 20ms.\n",
       "    rubberband.mousemove('motion_notify', mouse_event_fn);\n",
       "\n",
       "    rubberband.mouseenter('figure_enter', mouse_event_fn);\n",
       "    rubberband.mouseleave('figure_leave', mouse_event_fn);\n",
       "\n",
       "    canvas_div.on(\"wheel\", function (event) {\n",
       "        event = event.originalEvent;\n",
       "        event['data'] = 'scroll'\n",
       "        if (event.deltaY < 0) {\n",
       "            event.step = 1;\n",
       "        } else {\n",
       "            event.step = -1;\n",
       "        }\n",
       "        mouse_event_fn(event);\n",
       "    });\n",
       "\n",
       "    canvas_div.append(canvas);\n",
       "    canvas_div.append(rubberband);\n",
       "\n",
       "    this.rubberband = rubberband;\n",
       "    this.rubberband_canvas = rubberband[0];\n",
       "    this.rubberband_context = rubberband[0].getContext(\"2d\");\n",
       "    this.rubberband_context.strokeStyle = \"#000000\";\n",
       "\n",
       "    this._resize_canvas = function(width, height) {\n",
       "        // Keep the size of the canvas, canvas container, and rubber band\n",
       "        // canvas in synch.\n",
       "        canvas_div.css('width', width)\n",
       "        canvas_div.css('height', height)\n",
       "\n",
       "        canvas.attr('width', width);\n",
       "        canvas.attr('height', height);\n",
       "\n",
       "        rubberband.attr('width', width);\n",
       "        rubberband.attr('height', height);\n",
       "    }\n",
       "\n",
       "    // Set the figure to an initial 600x600px, this will subsequently be updated\n",
       "    // upon first draw.\n",
       "    this._resize_canvas(600, 600);\n",
       "\n",
       "    // Disable right mouse context menu.\n",
       "    $(this.rubberband_canvas).bind(\"contextmenu\",function(e){\n",
       "        return false;\n",
       "    });\n",
       "\n",
       "    function set_focus () {\n",
       "        canvas.focus();\n",
       "        canvas_div.focus();\n",
       "    }\n",
       "\n",
       "    window.setTimeout(set_focus, 100);\n",
       "}\n",
       "\n",
       "mpl.figure.prototype._init_toolbar = function() {\n",
       "    var fig = this;\n",
       "\n",
       "    var nav_element = $('<div/>')\n",
       "    nav_element.attr('style', 'width: 100%');\n",
       "    this.root.append(nav_element);\n",
       "\n",
       "    // Define a callback function for later on.\n",
       "    function toolbar_event(event) {\n",
       "        return fig.toolbar_button_onclick(event['data']);\n",
       "    }\n",
       "    function toolbar_mouse_event(event) {\n",
       "        return fig.toolbar_button_onmouseover(event['data']);\n",
       "    }\n",
       "\n",
       "    for(var toolbar_ind in mpl.toolbar_items) {\n",
       "        var name = mpl.toolbar_items[toolbar_ind][0];\n",
       "        var tooltip = mpl.toolbar_items[toolbar_ind][1];\n",
       "        var image = mpl.toolbar_items[toolbar_ind][2];\n",
       "        var method_name = mpl.toolbar_items[toolbar_ind][3];\n",
       "\n",
       "        if (!name) {\n",
       "            // put a spacer in here.\n",
       "            continue;\n",
       "        }\n",
       "        var button = $('<button/>');\n",
       "        button.addClass('ui-button ui-widget ui-state-default ui-corner-all ' +\n",
       "                        'ui-button-icon-only');\n",
       "        button.attr('role', 'button');\n",
       "        button.attr('aria-disabled', 'false');\n",
       "        button.click(method_name, toolbar_event);\n",
       "        button.mouseover(tooltip, toolbar_mouse_event);\n",
       "\n",
       "        var icon_img = $('<span/>');\n",
       "        icon_img.addClass('ui-button-icon-primary ui-icon');\n",
       "        icon_img.addClass(image);\n",
       "        icon_img.addClass('ui-corner-all');\n",
       "\n",
       "        var tooltip_span = $('<span/>');\n",
       "        tooltip_span.addClass('ui-button-text');\n",
       "        tooltip_span.html(tooltip);\n",
       "\n",
       "        button.append(icon_img);\n",
       "        button.append(tooltip_span);\n",
       "\n",
       "        nav_element.append(button);\n",
       "    }\n",
       "\n",
       "    var fmt_picker_span = $('<span/>');\n",
       "\n",
       "    var fmt_picker = $('<select/>');\n",
       "    fmt_picker.addClass('mpl-toolbar-option ui-widget ui-widget-content');\n",
       "    fmt_picker_span.append(fmt_picker);\n",
       "    nav_element.append(fmt_picker_span);\n",
       "    this.format_dropdown = fmt_picker[0];\n",
       "\n",
       "    for (var ind in mpl.extensions) {\n",
       "        var fmt = mpl.extensions[ind];\n",
       "        var option = $(\n",
       "            '<option/>', {selected: fmt === mpl.default_extension}).html(fmt);\n",
       "        fmt_picker.append(option)\n",
       "    }\n",
       "\n",
       "    // Add hover states to the ui-buttons\n",
       "    $( \".ui-button\" ).hover(\n",
       "        function() { $(this).addClass(\"ui-state-hover\");},\n",
       "        function() { $(this).removeClass(\"ui-state-hover\");}\n",
       "    );\n",
       "\n",
       "    var status_bar = $('<span class=\"mpl-message\"/>');\n",
       "    nav_element.append(status_bar);\n",
       "    this.message = status_bar[0];\n",
       "}\n",
       "\n",
       "mpl.figure.prototype.request_resize = function(x_pixels, y_pixels) {\n",
       "    // Request matplotlib to resize the figure. Matplotlib will then trigger a resize in the client,\n",
       "    // which will in turn request a refresh of the image.\n",
       "    this.send_message('resize', {'width': x_pixels, 'height': y_pixels});\n",
       "}\n",
       "\n",
       "mpl.figure.prototype.send_message = function(type, properties) {\n",
       "    properties['type'] = type;\n",
       "    properties['figure_id'] = this.id;\n",
       "    this.ws.send(JSON.stringify(properties));\n",
       "}\n",
       "\n",
       "mpl.figure.prototype.send_draw_message = function() {\n",
       "    if (!this.waiting) {\n",
       "        this.waiting = true;\n",
       "        this.ws.send(JSON.stringify({type: \"draw\", figure_id: this.id}));\n",
       "    }\n",
       "}\n",
       "\n",
       "\n",
       "mpl.figure.prototype.handle_save = function(fig, msg) {\n",
       "    var format_dropdown = fig.format_dropdown;\n",
       "    var format = format_dropdown.options[format_dropdown.selectedIndex].value;\n",
       "    fig.ondownload(fig, format);\n",
       "}\n",
       "\n",
       "\n",
       "mpl.figure.prototype.handle_resize = function(fig, msg) {\n",
       "    var size = msg['size'];\n",
       "    if (size[0] != fig.canvas.width || size[1] != fig.canvas.height) {\n",
       "        fig._resize_canvas(size[0], size[1]);\n",
       "        fig.send_message(\"refresh\", {});\n",
       "    };\n",
       "}\n",
       "\n",
       "mpl.figure.prototype.handle_rubberband = function(fig, msg) {\n",
       "    var x0 = msg['x0'];\n",
       "    var y0 = fig.canvas.height - msg['y0'];\n",
       "    var x1 = msg['x1'];\n",
       "    var y1 = fig.canvas.height - msg['y1'];\n",
       "    x0 = Math.floor(x0) + 0.5;\n",
       "    y0 = Math.floor(y0) + 0.5;\n",
       "    x1 = Math.floor(x1) + 0.5;\n",
       "    y1 = Math.floor(y1) + 0.5;\n",
       "    var min_x = Math.min(x0, x1);\n",
       "    var min_y = Math.min(y0, y1);\n",
       "    var width = Math.abs(x1 - x0);\n",
       "    var height = Math.abs(y1 - y0);\n",
       "\n",
       "    fig.rubberband_context.clearRect(\n",
       "        0, 0, fig.canvas.width, fig.canvas.height);\n",
       "\n",
       "    fig.rubberband_context.strokeRect(min_x, min_y, width, height);\n",
       "}\n",
       "\n",
       "mpl.figure.prototype.handle_figure_label = function(fig, msg) {\n",
       "    // Updates the figure title.\n",
       "    fig.header.textContent = msg['label'];\n",
       "}\n",
       "\n",
       "mpl.figure.prototype.handle_cursor = function(fig, msg) {\n",
       "    var cursor = msg['cursor'];\n",
       "    switch(cursor)\n",
       "    {\n",
       "    case 0:\n",
       "        cursor = 'pointer';\n",
       "        break;\n",
       "    case 1:\n",
       "        cursor = 'default';\n",
       "        break;\n",
       "    case 2:\n",
       "        cursor = 'crosshair';\n",
       "        break;\n",
       "    case 3:\n",
       "        cursor = 'move';\n",
       "        break;\n",
       "    }\n",
       "    fig.rubberband_canvas.style.cursor = cursor;\n",
       "}\n",
       "\n",
       "mpl.figure.prototype.handle_message = function(fig, msg) {\n",
       "    fig.message.textContent = msg['message'];\n",
       "}\n",
       "\n",
       "mpl.figure.prototype.handle_draw = function(fig, msg) {\n",
       "    // Request the server to send over a new figure.\n",
       "    fig.send_draw_message();\n",
       "}\n",
       "\n",
       "mpl.figure.prototype.handle_image_mode = function(fig, msg) {\n",
       "    fig.image_mode = msg['mode'];\n",
       "}\n",
       "\n",
       "mpl.figure.prototype.updated_canvas_event = function() {\n",
       "    // Called whenever the canvas gets updated.\n",
       "    this.send_message(\"ack\", {});\n",
       "}\n",
       "\n",
       "// A function to construct a web socket function for onmessage handling.\n",
       "// Called in the figure constructor.\n",
       "mpl.figure.prototype._make_on_message_function = function(fig) {\n",
       "    return function socket_on_message(evt) {\n",
       "        if (evt.data instanceof Blob) {\n",
       "            /* FIXME: We get \"Resource interpreted as Image but\n",
       "             * transferred with MIME type text/plain:\" errors on\n",
       "             * Chrome.  But how to set the MIME type?  It doesn't seem\n",
       "             * to be part of the websocket stream */\n",
       "            evt.data.type = \"image/png\";\n",
       "\n",
       "            /* Free the memory for the previous frames */\n",
       "            if (fig.imageObj.src) {\n",
       "                (window.URL || window.webkitURL).revokeObjectURL(\n",
       "                    fig.imageObj.src);\n",
       "            }\n",
       "\n",
       "            fig.imageObj.src = (window.URL || window.webkitURL).createObjectURL(\n",
       "                evt.data);\n",
       "            fig.updated_canvas_event();\n",
       "            return;\n",
       "        }\n",
       "        else if (typeof evt.data === 'string' && evt.data.slice(0, 21) == \"data:image/png;base64\") {\n",
       "            fig.imageObj.src = evt.data;\n",
       "            fig.updated_canvas_event();\n",
       "            return;\n",
       "        }\n",
       "\n",
       "        var msg = JSON.parse(evt.data);\n",
       "        var msg_type = msg['type'];\n",
       "\n",
       "        // Call the  \"handle_{type}\" callback, which takes\n",
       "        // the figure and JSON message as its only arguments.\n",
       "        try {\n",
       "            var callback = fig[\"handle_\" + msg_type];\n",
       "        } catch (e) {\n",
       "            console.log(\"No handler for the '\" + msg_type + \"' message type: \", msg);\n",
       "            return;\n",
       "        }\n",
       "\n",
       "        if (callback) {\n",
       "            try {\n",
       "                // console.log(\"Handling '\" + msg_type + \"' message: \", msg);\n",
       "                callback(fig, msg);\n",
       "            } catch (e) {\n",
       "                console.log(\"Exception inside the 'handler_\" + msg_type + \"' callback:\", e, e.stack, msg);\n",
       "            }\n",
       "        }\n",
       "    };\n",
       "}\n",
       "\n",
       "// from http://stackoverflow.com/questions/1114465/getting-mouse-location-in-canvas\n",
       "mpl.findpos = function(e) {\n",
       "    //this section is from http://www.quirksmode.org/js/events_properties.html\n",
       "    var targ;\n",
       "    if (!e)\n",
       "        e = window.event;\n",
       "    if (e.target)\n",
       "        targ = e.target;\n",
       "    else if (e.srcElement)\n",
       "        targ = e.srcElement;\n",
       "    if (targ.nodeType == 3) // defeat Safari bug\n",
       "        targ = targ.parentNode;\n",
       "\n",
       "    // jQuery normalizes the pageX and pageY\n",
       "    // pageX,Y are the mouse positions relative to the document\n",
       "    // offset() returns the position of the element relative to the document\n",
       "    var x = e.pageX - $(targ).offset().left;\n",
       "    var y = e.pageY - $(targ).offset().top;\n",
       "\n",
       "    return {\"x\": x, \"y\": y};\n",
       "};\n",
       "\n",
       "mpl.figure.prototype.mouse_event = function(event, name) {\n",
       "    var canvas_pos = mpl.findpos(event)\n",
       "\n",
       "    if (name === 'button_press')\n",
       "    {\n",
       "        this.canvas.focus();\n",
       "        this.canvas_div.focus();\n",
       "    }\n",
       "\n",
       "    var x = canvas_pos.x;\n",
       "    var y = canvas_pos.y;\n",
       "\n",
       "    this.send_message(name, {x: x, y: y, button: event.button,\n",
       "                             step: event.step});\n",
       "\n",
       "    /* This prevents the web browser from automatically changing to\n",
       "     * the text insertion cursor when the button is pressed.  We want\n",
       "     * to control all of the cursor setting manually through the\n",
       "     * 'cursor' event from matplotlib */\n",
       "    event.preventDefault();\n",
       "    return false;\n",
       "}\n",
       "\n",
       "mpl.figure.prototype._key_event_extra = function(event, name) {\n",
       "    // Handle any extra behaviour associated with a key event\n",
       "}\n",
       "\n",
       "mpl.figure.prototype.key_event = function(event, name) {\n",
       "\n",
       "    // Prevent repeat events\n",
       "    if (name == 'key_press')\n",
       "    {\n",
       "        if (event.which === this._key)\n",
       "            return;\n",
       "        else\n",
       "            this._key = event.which;\n",
       "    }\n",
       "    if (name == 'key_release')\n",
       "        this._key = null;\n",
       "\n",
       "    var value = '';\n",
       "    if (event.ctrlKey && event.which != 17)\n",
       "        value += \"ctrl+\";\n",
       "    if (event.altKey && event.which != 18)\n",
       "        value += \"alt+\";\n",
       "    if (event.shiftKey && event.which != 16)\n",
       "        value += \"shift+\";\n",
       "\n",
       "    value += 'k';\n",
       "    value += event.which.toString();\n",
       "\n",
       "    this._key_event_extra(event, name);\n",
       "\n",
       "    this.send_message(name, {key: value});\n",
       "    return false;\n",
       "}\n",
       "\n",
       "mpl.figure.prototype.toolbar_button_onclick = function(name) {\n",
       "    if (name == 'download') {\n",
       "        this.handle_save(this, null);\n",
       "    } else {\n",
       "        this.send_message(\"toolbar_button\", {name: name});\n",
       "    }\n",
       "};\n",
       "\n",
       "mpl.figure.prototype.toolbar_button_onmouseover = function(tooltip) {\n",
       "    this.message.textContent = tooltip;\n",
       "};\n",
       "mpl.toolbar_items = [[\"Home\", \"Reset original view\", \"fa fa-home icon-home\", \"home\"], [\"Back\", \"Back to  previous view\", \"fa fa-arrow-left icon-arrow-left\", \"back\"], [\"Forward\", \"Forward to next view\", \"fa fa-arrow-right icon-arrow-right\", \"forward\"], [\"\", \"\", \"\", \"\"], [\"Pan\", \"Pan axes with left mouse, zoom with right\", \"fa fa-arrows icon-move\", \"pan\"], [\"Zoom\", \"Zoom to rectangle\", \"fa fa-square-o icon-check-empty\", \"zoom\"], [\"\", \"\", \"\", \"\"], [\"Download\", \"Download plot\", \"fa fa-floppy-o icon-save\", \"download\"]];\n",
       "\n",
       "mpl.extensions = [\"eps\", \"jpeg\", \"pdf\", \"png\", \"ps\", \"raw\", \"svg\", \"tif\"];\n",
       "\n",
       "mpl.default_extension = \"png\";var comm_websocket_adapter = function(comm) {\n",
       "    // Create a \"websocket\"-like object which calls the given IPython comm\n",
       "    // object with the appropriate methods. Currently this is a non binary\n",
       "    // socket, so there is still some room for performance tuning.\n",
       "    var ws = {};\n",
       "\n",
       "    ws.close = function() {\n",
       "        comm.close()\n",
       "    };\n",
       "    ws.send = function(m) {\n",
       "        //console.log('sending', m);\n",
       "        comm.send(m);\n",
       "    };\n",
       "    // Register the callback with on_msg.\n",
       "    comm.on_msg(function(msg) {\n",
       "        //console.log('receiving', msg['content']['data'], msg);\n",
       "        // Pass the mpl event to the overriden (by mpl) onmessage function.\n",
       "        ws.onmessage(msg['content']['data'])\n",
       "    });\n",
       "    return ws;\n",
       "}\n",
       "\n",
       "mpl.mpl_figure_comm = function(comm, msg) {\n",
       "    // This is the function which gets called when the mpl process\n",
       "    // starts-up an IPython Comm through the \"matplotlib\" channel.\n",
       "\n",
       "    var id = msg.content.data.id;\n",
       "    // Get hold of the div created by the display call when the Comm\n",
       "    // socket was opened in Python.\n",
       "    var element = $(\"#\" + id);\n",
       "    var ws_proxy = comm_websocket_adapter(comm)\n",
       "\n",
       "    function ondownload(figure, format) {\n",
       "        window.open(figure.imageObj.src);\n",
       "    }\n",
       "\n",
       "    var fig = new mpl.figure(id, ws_proxy,\n",
       "                           ondownload,\n",
       "                           element.get(0));\n",
       "\n",
       "    // Call onopen now - mpl needs it, as it is assuming we've passed it a real\n",
       "    // web socket which is closed, not our websocket->open comm proxy.\n",
       "    ws_proxy.onopen();\n",
       "\n",
       "    fig.parent_element = element.get(0);\n",
       "    fig.cell_info = mpl.find_output_cell(\"<div id='\" + id + \"'></div>\");\n",
       "    if (!fig.cell_info) {\n",
       "        console.error(\"Failed to find cell for figure\", id, fig);\n",
       "        return;\n",
       "    }\n",
       "\n",
       "    var output_index = fig.cell_info[2]\n",
       "    var cell = fig.cell_info[0];\n",
       "\n",
       "};\n",
       "\n",
       "mpl.figure.prototype.handle_close = function(fig, msg) {\n",
       "    // Update the output cell to use the data from the current canvas.\n",
       "    fig.push_to_output();\n",
       "    var dataURL = fig.canvas.toDataURL();\n",
       "    // Re-enable the keyboard manager in IPython - without this line, in FF,\n",
       "    // the notebook keyboard shortcuts fail.\n",
       "    IPython.keyboard_manager.enable()\n",
       "    $(fig.parent_element).html('<img src=\"' + dataURL + '\">');\n",
       "    fig.send_message('closing', {});\n",
       "    fig.ws.close()\n",
       "}\n",
       "\n",
       "mpl.figure.prototype.push_to_output = function(remove_interactive) {\n",
       "    // Turn the data on the canvas into data in the output cell.\n",
       "    var dataURL = this.canvas.toDataURL();\n",
       "    this.cell_info[1]['text/html'] = '<img src=\"' + dataURL + '\">';\n",
       "}\n",
       "\n",
       "mpl.figure.prototype.updated_canvas_event = function() {\n",
       "    // Tell IPython that the notebook contents must change.\n",
       "    IPython.notebook.set_dirty(true);\n",
       "    this.send_message(\"ack\", {});\n",
       "    var fig = this;\n",
       "    // Wait a second, then push the new image to the DOM so\n",
       "    // that it is saved nicely (might be nice to debounce this).\n",
       "    setTimeout(function () { fig.push_to_output() }, 1000);\n",
       "}\n",
       "\n",
       "mpl.figure.prototype._init_toolbar = function() {\n",
       "    var fig = this;\n",
       "\n",
       "    var nav_element = $('<div/>')\n",
       "    nav_element.attr('style', 'width: 100%');\n",
       "    this.root.append(nav_element);\n",
       "\n",
       "    // Define a callback function for later on.\n",
       "    function toolbar_event(event) {\n",
       "        return fig.toolbar_button_onclick(event['data']);\n",
       "    }\n",
       "    function toolbar_mouse_event(event) {\n",
       "        return fig.toolbar_button_onmouseover(event['data']);\n",
       "    }\n",
       "\n",
       "    for(var toolbar_ind in mpl.toolbar_items){\n",
       "        var name = mpl.toolbar_items[toolbar_ind][0];\n",
       "        var tooltip = mpl.toolbar_items[toolbar_ind][1];\n",
       "        var image = mpl.toolbar_items[toolbar_ind][2];\n",
       "        var method_name = mpl.toolbar_items[toolbar_ind][3];\n",
       "\n",
       "        if (!name) { continue; };\n",
       "\n",
       "        var button = $('<button class=\"btn btn-default\" href=\"#\" title=\"' + name + '\"><i class=\"fa ' + image + ' fa-lg\"></i></button>');\n",
       "        button.click(method_name, toolbar_event);\n",
       "        button.mouseover(tooltip, toolbar_mouse_event);\n",
       "        nav_element.append(button);\n",
       "    }\n",
       "\n",
       "    // Add the status bar.\n",
       "    var status_bar = $('<span class=\"mpl-message\" style=\"text-align:right; float: right;\"/>');\n",
       "    nav_element.append(status_bar);\n",
       "    this.message = status_bar[0];\n",
       "\n",
       "    // Add the close button to the window.\n",
       "    var buttongrp = $('<div class=\"btn-group inline pull-right\"></div>');\n",
       "    var button = $('<button class=\"btn btn-mini btn-danger\" href=\"#\" title=\"Close figure\"><i class=\"fa fa-times icon-remove icon-large\"></i></button>');\n",
       "    button.click(function (evt) { fig.handle_close(fig, {}); } );\n",
       "    button.mouseover('Close figure', toolbar_mouse_event);\n",
       "    buttongrp.append(button);\n",
       "    var titlebar = this.root.find($('.ui-dialog-titlebar'));\n",
       "    titlebar.prepend(buttongrp);\n",
       "}\n",
       "\n",
       "\n",
       "mpl.figure.prototype._canvas_extra_style = function(el){\n",
       "    // this is important to make the div 'focusable\n",
       "    el.attr('tabindex', 0)\n",
       "    // reach out to IPython and tell the keyboard manager to turn it's self\n",
       "    // off when our div gets focus\n",
       "\n",
       "    // location in version 3\n",
       "    if (IPython.notebook.keyboard_manager) {\n",
       "        IPython.notebook.keyboard_manager.register_events(el);\n",
       "    }\n",
       "    else {\n",
       "        // location in version 2\n",
       "        IPython.keyboard_manager.register_events(el);\n",
       "    }\n",
       "\n",
       "}\n",
       "\n",
       "mpl.figure.prototype._key_event_extra = function(event, name) {\n",
       "    var manager = IPython.notebook.keyboard_manager;\n",
       "    if (!manager)\n",
       "        manager = IPython.keyboard_manager;\n",
       "\n",
       "    // Check for shift+enter\n",
       "    if (event.shiftKey && event.which == 13) {\n",
       "        this.canvas_div.blur();\n",
       "        event.shiftKey = false;\n",
       "        // Send a \"J\" for go to next cell\n",
       "        event.which = 74;\n",
       "        event.keyCode = 74;\n",
       "        manager.command_mode();\n",
       "        manager.handle_keydown(event);\n",
       "    }\n",
       "}\n",
       "\n",
       "mpl.figure.prototype.handle_save = function(fig, msg) {\n",
       "    fig.ondownload(fig, null);\n",
       "}\n",
       "\n",
       "\n",
       "mpl.find_output_cell = function(html_output) {\n",
       "    // Return the cell and output element which can be found *uniquely* in the notebook.\n",
       "    // Note - this is a bit hacky, but it is done because the \"notebook_saving.Notebook\"\n",
       "    // IPython event is triggered only after the cells have been serialised, which for\n",
       "    // our purposes (turning an active figure into a static one), is too late.\n",
       "    var cells = IPython.notebook.get_cells();\n",
       "    var ncells = cells.length;\n",
       "    for (var i=0; i<ncells; i++) {\n",
       "        var cell = cells[i];\n",
       "        if (cell.cell_type === 'code'){\n",
       "            for (var j=0; j<cell.output_area.outputs.length; j++) {\n",
       "                var data = cell.output_area.outputs[j];\n",
       "                if (data.data) {\n",
       "                    // IPython >= 3 moved mimebundle to data attribute of output\n",
       "                    data = data.data;\n",
       "                }\n",
       "                if (data['text/html'] == html_output) {\n",
       "                    return [cell, data, j];\n",
       "                }\n",
       "            }\n",
       "        }\n",
       "    }\n",
       "}\n",
       "\n",
       "// Register the function which deals with the matplotlib target/channel.\n",
       "// The kernel may be null if the page has been refreshed.\n",
       "if (IPython.notebook.kernel != null) {\n",
       "    IPython.notebook.kernel.comm_manager.register_target('matplotlib', mpl.mpl_figure_comm);\n",
       "}\n"
      ],
      "text/plain": [
       "<IPython.core.display.Javascript object>"
      ]
     },
     "metadata": {},
     "output_type": "display_data"
    },
    {
     "data": {
      "text/html": [
       "<img src=\"data:image/png;base64,iVBORw0KGgoAAAANSUhEUgAAAoAAAAHgCAYAAAA10dzkAAAgAElEQVR4Xu3df5Dtd13f8VcUr6UhZFLtKDERq0lN0ASaTFtIlbH8cBNQYSx1UpTAdKxT2UiGKJ02ViBpzNBkckM1W2oqqVPRonaKiCkuCqU1tLWMP0bMH9IKQjCjbS2TS6B6aULnc/ne6enO3tw99332nd3zfZyZHW7uPe+z5zzO+9z73O+e73JWXAgQIECAAAECBGYlcNasHq0HS4AAAQIECBAgEAFoCQgQIECAAAECMxMQgDN7wj1cAgQIECBAgIAAtAMECBAgQIAAgZkJCMCZPeEeLgECBAgQIEBAANoBAgQIECBAgMDMBATgzJ5wD5cAAQIECBAgIADtAAECBAgQIEBgZgICcGZPuIdLgAABAgQIEBCAdoAAAQIECBAgMDMBATizJ9zDJUCAAAECBAgIQDtAgAABAgQIEJiZgACc2RPu4RIgQIAAAQIEBKAdIECAAAECBAjMTEAAzuwJ93AJECBAgAABAgLQDhAgQIAAAQIEZiYgAGf2hHu4BAgQIECAAAEBaAcIECBAgAABAjMTEIAze8I9XAIECBAgQICAALQDBAgQIECAAIGZCQjAmT3hHi4BAgQIECBAQADaAQIECBAgQIDAzAQE4MyecA+XAAECBAgQICAA7QABAgQIECBAYGYCAnBmT7iHS4AAAQIECBAQgHaAAAECBAgQIDAzAQE4syfcwyVAgAABAgQICEA7QIAAAQIECBCYmYAAnNkT7uESIECAAAECBASgHSBAgAABAgQIzExAAM7sCfdwCRAgQIAAAQIC0A4QIECAAAECBGYmIABn9oR7uAQIECBAgAABAWgHCBAgQIAAAQIzExCAM3vCPVwCBAgQIECAgAC0AwQIECBAgACBmQkIwJk94R4uAQIECBAgQEAA2gECBAgQIECAwMwEBODMnnAPlwABAgQIECAgAO0AAQIECBAgQGBmAgJwZk+4h0uAAAECBAgQEIB2gAABAgQIECAwMwEBOLMn3MMlQIAAAQIECAhAO0CAAAECBAgQmJmAAJzZE+7hEiBAgAABAgQEoB0gQIAAAQIECMxMQADWnvDhd36ST9VuxjQBAgQIECDQLHBOkoeSfK758x6ITzfHAHxjkh9K8pmFZ+AXknzn9N+XJ7k7yRVJHk5yT5KbT/FsfUWSTxyIZ9KdIECAAAECBJYVuCDJHyw7tA7Xn2sAPi/Jc3d5AsdXAx9Ocm+SW5JcnOTdSe5M8uZdrv/UEYkPPvhgnvrU8ctTX2666abcdttt67AzT/hjYLmap4DjahzHrbBkuTqB1dySnXx8x2PHjuXCCy8cVzo3ybHVqB+uW5lrAD4/yTfu8lS9MsntSZ6W5LHpz1+TZHxcdKoAfPjhh08bgDfeeGOOHj16uLbjgN5blqt5YjiuxnHcCkuWqxNYzS3ZydMH4LnnjvYTgKvZuMNxK29I8rrpW8Dj28AfSPKDSX4/yV1JLklyzcJDuSrJ/UnGIb5HdjzEE0cABWDvE+8vttV4c1yNowBcnSPL1Vl6fQvA023THI8Aft10uPfB6QSOccTv2UmemeRHkpyd5NoFuEuTPJBkvE9gvFl08bLnANze3s7Gxsbpng9/vgcBlntA2sNVOO4BaY9XYblHqD1cjeUekPZwFY4C8HRrMscA3GlyZDrZ49umI3/PSHL1MkcANzc3c+TIuJmciDyhd7q18+cECBAgQKBXYETx+BiX48ePZ2tra/zSewB7n4YD9dkWA3C89++O6cjgo9O9vCHJ9dMJITvv+J6PAB6oR+zOECBAgACBGQuMk0C8B3B+C/AdSd6b5I+TfNkUfN+Q5LIk44joybOAb52i774k4+yNU54FvJf3AM6P2SMmQIAAAQIHU0AAfj545nZ5Z5LnTO/1+2SSfz/9XMCPTBAjBMdx4Sun9wq+ZfqRMLs5OQI4t+3xeAkQIEDg0AsIwHkG4CoXVwCuUtNtESBAgACBBgEBKACrayYAq4LmCRAgQIBAs4AAFIDVlROAVUHzBAgQIECgWUAACsDqygnAqqB5AgQIECDQLCAABWB15QRgVdA8AQIECBBoFhCAArC6cgKwKmieAAECBAg0CwhAAVhdOQFYFTRPgAABAgSaBQSgAKyunACsCponQIAAAQLNAgJQAFZXTgBWBc0TIECAAIFmAQEoAKsrJwCrguYJECBAgECzgAAUgNWVE4BVQfMECBAgQKBZQAAKwOrKCcCqoHkCBAgQINAsIAAFYHXlBGBV0DwBAgQIEGgWEIACsLpyArAqaJ4AAQIECDQLCEABWF05AVgVNE+AAAECBJoFBKAArK6cAKwKmidAgAABAs0CAlAAVldOAFYFzRMgQIAAgWYBASgAqysnAKuC5gkQIECAQLOAABSA1ZUTgFVB8wQIECBAoFlAAArA6soJwKqgeQIECBAg0CwgAAVgdeUEYFXQPAECBAgQaBYQgAKwunICsCpongABAgQINAsIQAFYXTkBWBU0T4AAAQIEmgUEoACsrpwArAqaJ0CAAAECzQICUABWV04AVgXNEyBAgACBZgEBKACrKycAq4LmCRAgQIBAs4AAFIDVlROAVUHzBAgQIECgWUAACsDqygnAqqB5AgQIECDQLCAABWB15QRgVdA8AQIECBBoFhCAArC6cgKwKmieAAECBAg0CwhAAVhdOQFYFTRPgAABAgSaBQSgAKyunACsCponQIAAAQLNAgJQAFZXTgBWBc0TIECAAIFmAQEoAKsrJwCrguYJECBAgECzgAAUgNWVE4BVQfMECBAgQKBZQAAKwOrKCcCqoHkCBAgQINAsIAAFYHXlBGBV0DwBAgQIEGgWEIACsLpyArAqaJ4AAQIECDQLCEABWF05AVgVNE+AAAECBJoFBKAArK6cAKwKmidAgAABAs0CAlAAVldOAFYFzRMgQIAAgWYBASgAqysnAKuC5gkQIECAQLOAABSA1ZUTgFVB8wQIECBAoFlAAArA6soJwKqgeQIECBAg0CwgAAVgdeUEYFXQPAECBAgQaBYQgAJwrNw7krwkyQuTvHfawcuT3J3kiiQPJ7knyc277KcAbH7R+nQECBAgQKAqIAAF4HVJXp7km5O8IMn7kpyT5MNJ7k1yS5KLk7w7yZ1J3rxj6QRg9VVongABAgQINAsIwHkH4AVJPpDkG5J8bCEAX5nk9iRPS/LYtJOvSTI+LhKAza9Sn44AAQIECKxYQADONwDPSrKd5GeT/PgUeiePAN6V5JIk1yzs21VJ7k8yjvg9svD7jgCu+EXp5ggQIECAwH4LCMD5BuCrp/f9bUxLNo70nQzAtyY5O8m1Cwt4aZIHkoyjhg8JwP1+abp9AgQIECCwfwICcJ4B+DVJfjXJs5N8fCEAT54EcjTJM5Jc7Qjg/r343DIBAgQIEHiiBATgPAPwVUl+LMmxhcX7kum/f2Z6X+AdSc5P8uh0nRuSXD+dELK4rye+Bby5uZkjR46c+P2NjY0THy4ECBAgQIDAwRHY3t7O+BiX48ePZ2tra/zy3B09cHDu8D7fk/FeuLldnpzkvIUHPQwenL7l+54k/2fhLOBbp+i7L8k4Mugs4Llti8dLgAABAmsn4AjgPI8A7rbIi+8BHH9+WZLxpcGV01cGb5l+JMzOWSeBrN1fCx4QAQIECKy7gAAUgNUdF4BVQfMECBAgQKBZQAAKwOrKCcCqoHkCBAgQINAsIAAFYHXlBGBV0DwBAgQIEGgWEIACsLpyArAqaJ4AAQIECDQLCEABWF05AVgVNE+AAAECBJoFBKAArK6cAKwKmidAgAABAs0CAlAAVldOAFYFzRMgQIAAgWYBASgAqysnAKuC5gkQIECAQLOAABSA1ZUTgFVB8wQIECBAoFlAAArA6soJwKqgeQIECBAg0CwgAAVgdeUEYFXQPAECBAgQaBYQgAKwunICsCpongABAgQINAsIQAFYXTkBWBU0T4AAAQIEmgUEoACsrpwArAqaJ0CAAAECzQICUABWV04AVgXNEyBAgACBZgEBKACrKycAq4LmCRAgQIBAs4AAFIDVlROAVUHzBAgQIECgWUAACsDqygnAqqB5AgQIECDQLCAABWB15QRgVdA8AQIECBBoFhCAArC6cgKwKmieAAECBAg0CwhAAVhdOQFYFTRPgAABAgSaBQSgAKyunACsCponQIAAAQLNAgJQAFZXTgBWBc0TIECAAIFmAQEoAKsrJwCrguYJECBAgECzgAAUgNWVE4BVQfMECBAgQKBZQAAKwOrKCcCqoHkCBAgQINAsIAAFYHXlBGBV0DwBAgQIEGgWEIACsLpyArAqaJ4AAQIECDQLCEABWF05AVgVNE+AAAECBJoFBKAArK6cAKwKmidAgAABAs0CAlAAVldOAFYFzRMgQIAAgWYBASgAqysnAKuC5gkQIECAQLOAABSA1ZUTgFVB8wQIECBAoFlAAArA6soJwKqgeQIECBAg0CwgAAVgdeUEYFXQPAECBAgQaBYQgAKwunICsCpongABAgQINAsIQAFYXTkBWBU0T4AAAQIEmgUEoACsrpwArAqaJ0CAAAECzQICUABWV04AVgXNEyBAgACBZgEBKACrKycAq4LmCRAgQIBAs4AAFIDVlROAVUHzBAgQIECgWUAACsDqygnAqqB5AgQIECDQLCAABWB15QRgVdA8AQIECBBoFhCAArC6cgKwKmieAAECBAg0CwhAAVhdOQFYFTRPgAABAgSaBQSgAKyunACsCponQIAAAQLNAgJwngH4hiSvSPKlSR5L8kCSm5P8ysL+XZ7k7iRXJHk4yT3TdXauqABsftH6dAQIECBAoCogAOcZgH8xyR9NYfekJK9JcluSL0ny6STnJPlwknuT3JLk4iTvTnJnkjfvWDoBWH0VmidAgAABAs0CAnCeAbi4Zl+c5HuTvDbJRUk+m+SVSW5P8rTpCOG4/ojE8TGus3gRgM0vWp+OAAECBAhUBQTgfAPwxUneluTcJB9PMv57fCt4XO5KckmSaxYW7Kok9ycZwffIwu8LwOqr0DwBAgQIEGgWEIDzDcCTq3be9G3eb03y9VPcvTXJ2UmuXdjHS6dAvCDJQwKw+ZXq0xEgQIAAgRUKCEABONbprOn9gONbv++YjgCO4LvaEcAVvtrcFAECBAgQOCACAlAAjlUcJ4KMM31fmuSXk1yX5I4k5yd5dNrVG5JcP50Qsri+J74FvLm5mSNHjpz4/Y2NjRMfLgQIECBAgMDBEdje3s74GJfjx49na2tr/HK8FezYwbmXffdkHP2a22XE3L9K8t+T/PkkP5zk+UkuS/KZJE9ZOAv41in67kty1FnAc1sVj5cAAQIE1lHAEcB5HgF8V5K/PIXeJ5O8P8nrk3x0YclHDI4vDa6cvjJ4y/RewZ2vAyeBrOPfDB4TAQIECKy1gACcZwCucqkF4Co13RYBAgQIEGgQEIACsLpmArAqaJ4AAQIECDQLCEABWF05AVgVNE+AAAECBJoFBKAArK6cAKwKmidAgAABAs0CAlAAVldOAFYFzRMgQIAAgWYBASgAqysnAKuC5gkQIECAQLOAABSA1ZUTgFVB8wQIECBAoFlAAArA6soJwKqgeQIECBAg0CwgAAVgdeUEYFXQPAECBAgQaBYQgAKwunICsCpongABAgQINAsIQAFYXTkBWBU0T4AAAQIEmgUEoACsrpwArAqaJ0CAAAECzQICUABWV04AVgXNEyBAgACBZgEBKACrKycAq4LmCRAgQIBAs4AAFIDVlROAVUHzBAgQIECgWUAACsDqygnAqqB5AgQIECDQLCAABWB15QRgVdA8AQIECBBoFhCAArC6cgKwKmieAAECBAg0CwhAAVhdOQFYFTRPgAABAgSaBQSgAKyunACsCponQIAAAQLNAgJQAFZXTgBWBc0TIECAAIFmAQEoAKsrJwCrguYJECBAgECzgAAUgNWVE4BVQfMECBAgQKBZQAAKwOrKCcCqoHkCBAgQINAsIAAFYHXlBGBV0DwBAgQIEGgWEIACsLpyArAqaJ4AAQIECDQLCEABWF05AVgVNE+AAAECBJoFBKAArK6cAKwKmidAgAABAs0CAlAAVldOAFYFzRMgQIAAgWYBASgAqysnAKuC5gkQIECAQLOAABSA1ZUTgFVB8wQIECBAoFlAAArA6soJwKqgeQIECBAg0CwgAAVgdeUEYFXQPAECBAgQaBYQgAKwunICsCpongABAgQINAsIQAFYXTkBWBU0T4AAAQIEmgUEoACsrpwArAqaJ0CAAAECzQICUABWV04AVgXNEyBAgACBZgEBKACrKycAq4LmCRAgQIBAs4AAFIDVlROAVUHzBAgQIECgWUAACsDqygnAqqB5AgQIECDQLCAABWB15QRgVdA8AQIECBBoFhCAArC6cgKwKmieAAECBAg0CwhAAVhdOQFYFTRPgAABAgSaBQSgAKyunACsCponQIAAAQLNAgJQAFZXTgBWBc0TIECAAIFmAQEoAKsrJwCrguYJECBAgECzgACcZwC+KcmLkjw9yaeTvD/J30vyiYX9uzzJ3UmuSPJwknuS3LzLfgrA5hetT0eAAAECBKoCAnCeAXhbkp9L8qEkZyf5p0mekeQvTQt1TpIPJ7k3yS1JLk7y7iR3JnnzjqUTgNVXoXkCBAgQINAsIADnGYA71+xZSX4jyXnT0b5XJrk9ydOSPDZd+TVJxsdFArD5VerTESBAgACBFQsIQAE4Vmp8+/fvJvnqab/uSnJJkmsW9u2qJPcnGUf8Hln4fUcAV/yidHMECBAgQGC/BQSgAHxBkp9P8u1J3jMt3Funbw1fu7CAlyZ5IMkFSR4SgPv90nT7BAgQIEBg/wQE4LwD8FuS/GSSVyV558KaHZ3eE3i1I4D79+JzywQIECBA4IkSEIDzDcDvTLKV5GVJfmXHAl6X5I4k5yd5dPqzG5JcP50Qsnj1E98C3tzczJEjR078/sbGxokPFwIECBAgQODgCGxvb2d8jMvx48eztTUyIOcmOXZw7mXfPTmr71MdmM80Qm6c3futST6wy716ysJZwLdO0XdfknFk0FnAB+ZpdEcIECBAgMCZCTgCOM8jgOPM3s+OLwB2rM34lu/JILxsOkJ45fSVwVumaNy5aU4CObPXnikCBAgQIPCECQjAeQbgKhdOAK5S020RIECAAIEGAQEoAKtrJgCrguYJECBAgECzgAAUgNWVE4BVQfMECBAgQKBZQAAKwOrKCcCqoHkCBAgQINAsIAAFYHXlBGBV0DwBAgQIEGgWEIACsLpyArAqaJ4AAQIECDQLCEABWF05AVgVNE+AAAECBJoFBKAArK6cAKwKmidAgAABAs0CAlAAVldOAFYFzRMgQIAAgWYBASgAqysnAKuC5gkQIECAQLOAABSA1ZUTgFVB8wQIECBAoFlAAArA6soJwKqgeQIECBAg0CwgAAVgdeUEYFXQPAECBAgQaBYQgAKwunICsCpongABAgQINAsIQAFYXTkBWBU0T4AAAQIEmgUEoACsrpwArAqaJ0CAAAECzQICUABWV04AVgXNEyBAgACBZgEBKACrKycAq4LmCRAgQIBAs4AAFIDVlROAVUHzBAgQIECgWUAACsDqygnAqqB5AgQIECDQLCAABWB15QRgVdA8AQIECBBoFhCAArC6cgKwKmieAAECBAg0CwhAAVhdOQFYFTRPgAABAgSaBQSgAKyunACsCponQIAAAQLNAgJQAFZXTgBWBc0TIECAAIFmAQEoAKsrJwCrguYJECBAgECzgAAUgNWVE4BVQfMECBAgQKBZQAAKwOrKCcCqoHkCBAgQINAsIAAFYHXlBGBV0DwBAgQIEGgWEIACsLpyArAqaJ4AAQIECDQLCEABWF05AVgVNE+AAAECBJoFBKAArK6cAKwKmidAgAABAs0CAlAAVldOAFYFzRMgQIAAgWYBASgAqysnAKuC5gkQIECAQLOAABSA1ZUTgFVB8wQIECBAoFlAAArA6soJwKqgeQIECBAg0CwgAAVgdeUEYFXQPAECBAgQaBYQgAKwunICsCpongABAgQINAsIQAFYXTkBWBU0T4AAAQIEmgUEoACsrpwArAqaJ0CAAAECzQICUABWV04AVgXNEyBAgACBZgEBKACrKycAq4LmCRAgQIBAs4AAFIDVlROAVUHzBAgQIECgWUAACsDqygnAqqB5AgQIECDQLCAABWB15QRgVdA8AQIECBBoFhCAArC6cgKwKmieAAECBAg0CwjA+QbgtUk2k1ye5JwkT0ry2ML+jd+/O8kVSR5Ock+Sm3fZTwHY/KL16QgQIECAQFVAAM43AL85yXlJ/mySt+4IwBGEH05yb5Jbklyc5N1J7kzy5h1LJwCrr0LzBAgQIECgWUAAzjcAT67aNyV5344AfGWS25M8beGo4GuSjI+LBGDzq9SnI0CAAAECKxYQgAJwtwC8K8klSa5Z2LerktyfZBzxe2Th9x0BXPGL0s0RIECAAIH9FhCAAnC3ABzfEj47yXif4MnLpUkeSHJBkocE4H6/NN0+AQIECBDYPwEBKAB3C8CjSZ6R5Oq9HgHc3NzMkSNHTlx9Y2PjxIcLAQIECBAgcHAEtre3Mz7G5fjx49na2hq/PDfJsYNzL/vuyVl9n+pAfqbdAvC6JHckOT/Jo9O9viHJ9dMJIYsPxLeAD+TT6k4RIECAAIFTCzgCON8jgF+QZByye26SX0rylOmEjz+dvv178izgW6fouy/JODLoLGB/oxAgQIAAgUMuIADnG4Cvmn7My1jhz+X/OYwjgv8hyWVJxrHhK6dDw2+ZfiTMzpV3BPCQ/yXg7hMgQIDA/AQE4HwDcFXbLgBXJel2CBAgQIBAk4AAFIDVVROAVUHzBAgQIECgWUAACsDqygnAqqB5AgQIECDQLCAABWB15QRgVdA8AQIECBBoFhCAArC6cgKwKmieAAECBAg0CwhAAVhdOQFYFTRPgAABAgSaBQSgAKyunACsCponQIAAAQLNAgJQAFZXTgBWBc0TIECAAIFmAQEoAKsrJwCrguYJECBAgECzgAAUgNWVE4BVQfMECBAgQKBZQAAKwOrKCcCqoHkCBAgQINAsIAAFYHXlBGBV0DwBAgQIEGgWEIACsLpyArAqaJ4AAQIECDQLCEABWF05AVgVNE+AAAECBJoFBKAArK6cAKwKmidAgAABAs0CAlAAVldOAFYFzRMgQIAAgWYBASgAqysnAKuC5gkQIECAQLOAABSA1ZUTgFVB8wQIECBAoFlAAArA6soJwKqgeQIECBAg0CwgAAVgdeUEYFXQPAECBAgQaBYQgAKwunICsCpongABAgQINAsIQAFYXTkBWBU0T4AAAQIEmgUEoACsrpwArAqaJ0CAAAECzQICUABWV04AVgXNEyBAgACBZgEBKACrKycAq4LmCRAgQIBAs4AAFIDVlROAVUHzBAgQIECgWUAACsDqygnAqqB5AgQIECDQLCAABWB15QRgVdA8AQIECBBoFhCAArC6cgKwKmieAAECBAg0CwhAAVhdOQFYFTRPgAABAgSaBQSgAKyunACsCponQIAAAQLNAgJQAFZXTgBWBc0TIECAAIFmAQEoAKsrJwCrguYJECBAgECzgAAUgNWVE4BVQfMECBAgQKBZQAAKwOrKCcCqoHkCBAgQINAsIAAFYHXlBGBV0DwBAgQIEGgWEIACsLpyArAqaJ4AAQIECDQLCEABWF05AVgVNE+AAAECBJoFBKAArK6cAKwKmidAgAABAs0CAlAAVldOAFYFzRMgQIAAgWYBASgAqysnAKuC5gkQIECAQLOAABSA1ZUTgFVB8wQIECBAoFlAAArA6soJwKqgeQIECBAg0CwgAAVgdeUEYFXQPAECBAgQaBYQgAKwunICsCpongABAgQINAsIQAFYXTkBWBU0T4AAAQIEmgUEoAA83crdnOS7k5yb5NeTvDrJAwtDAvB0gv6cAAECBAgcMAEBKAAfbyVfl+T7klyT5PeSvD7JdUm+Nsmnp0EBeMBe1O4OAQIECBA4nYAAFICPtyMfTXI0yY9OV/rCJA8l+f4kbxOAp3t5+XMCBAgQIHAwBQSgADzVZo5v+X4yyXOS/NrClbaT/M4UgeO3HQE8mK9t94oAAQIECJxSQAAKwFMtx4VJPpbk0iS/u3Cltyc5luR7HAH0NwsBAgQIEDicAgJQAC57BPA9SX47yQ8sBuDm5maOHDly4rc2NjZOfLgQIECAAAECB0dge3s742Ncjh8/nq2trfHL8R2/cWBndpezZveI9/6AP5LkroX3AD5peg/ga5P8lCOAe4d0TQIECBAgcJAEHAF0BPDx9nEc5RtnAb8oyYjBcRbwd01nAX9GAB6kl7L7QoAAAQIE9i4gAAXg6bZl/BzA8X6/cbLHB5Ns+jmApyPz5wQIECBA4GALCEABWN1QZwFXBc0TIECAAIFmAQEoAKsrJwCrguYJECBAgECzgAAUgNWVE4BVQfMECBAgQKBZQAAKwOrKCcCqoHkCBAgQINAsIAAFYHXlBGBV0DwBAgQIEGgWEIACsLpyArAqaJ4AAQIECDQLCEABWF05AVgVNE+AAAECBJoFBKAArK6cAKwKmidAgAABAs0CAlAAVldOAFYFzRMgQIAAgWYBASgAqysnAKuC5gkQIECAQLOAABSA1ZUTgFVB8wQIECBAoFlAAArA6soJwKqgeQIECBAg0CwgAAVgdeUEYFXQPAECBAgQaBYQgAKwunICsCpongABAgQINAsIQAFYXTkBWBU0T4AAAQIEmgUEoACsrpwArAqaJ0CAAAECzQICUABWV04AVgXNEyBAgACBZgEBKACrKycAq4LmCRAgQIBAs4AAFIDVlROAVUHzBAgQIECgWUAACsDqygnAqqB5AgQIECDQLCAABWB15QRgVdA8AQIECBBoFhCAArC6cgKwKmieAAECBAg0C10TrC4AAA+eSURBVAhAAVhdOQFYFTRPgAABAgSaBQSgAKyunACsCponQIAAAQLNAgJQAFZXTgBWBc0TIECAAIFmAQEoAKsrJwCrguYJECBAgECzgAAUgNWVE4BVQfMECBAgQKBZQAAKwOrKCcCqoHkCBAgQINAsIAAFYHXlBGBV0DwBAgQIEGgWEIACsLpyArAqaJ4AAQIECDQLCEABWF05AVgVNE+AAAECBJoFBKAArK6cAKwKmidAgAABAs0CAlAAVldOAFYFzRMgQIAAgWYBASgAqysnAKuC5gkQIECAQLOAABSA1ZUTgFVB8wQIECBAoFlAAArA6soJwKqgeQIECBAg0CwgAAVgdeUEYFXQPAECBAgQaBYQgAKwunICsCpongABAgQINAsIQAFYXTkBWBU0T4AAAQIEmgUEoACsrpwArAqaJ0CAAAECzQICUABWV04AVgXNEyBAgACBZgEBKACrKycAq4LmCRAgQIBAs4AAFIDVlROAVUHzBAgQIECgWUAACsDqygnAqqB5AgQIECDQLCAABWB15QRgVdA8AQIECBBoFhCAArC6cgKwKmieAAECBAg0CwjAeQbgM5O8KcmzknxZkhcmee+O3Tsvyd1JXpzkc0nuS7KZ5OEd1xOAzS9an44AAQIECFQFBOA8A/CSJH8tyW8l+WCSFyR5345lGsH3RUmuzeeN3p7k00leKgCrLzvzBAgQIEDgiRUQgPMMwMWte2yXAHx6ko8mGUcKPzRd+fIpGL8yyScWbsARwCf2NeyzEyBAgACBpQUEoADcLQBfMh3xe/KOjfqTJC9L8osCcOnXmgECBAgQIHBgBATgegXgTyS57nG26/1Jnrfjz3cLwFckuSPJl++47h8muTHJTwvAA/MadkcIECBAgMDSAgJwvQLw7CRf/Dhb8Nkkn9pDAC59BHBzczNHjhw5cdMbGxsnPlwIECBAgACBgyOwvb2d8TEux48fz9bW1vjluUmOHZx72XdPxgkOc77s9T2A4/2Av5nEewDnvC0eOwECBAishYAjgOt1BHCZpfwz09m948zeFyUZ3x4eRwgfnW5kvM9vnAX88oWzgB9xFvAyxK5LgAABAgQOpoAAnGcAflWSj0wrOX7G38mjoG9Mcsv0+4s/B3D81rumnwO48zCxs4AP5mvbvSJAgAABAqcUEIDzDMBVviQE4Co13RYBAgQIEGgQEIACsLpmArAqaJ4AAQIECDQLCEABWF05AVgVNE+AAAECBJoFBKAArK6cAKwKmidAgAABAs0CAlAAVldOAFYFzRMgQIAAgWYBASgAqysnAKuC5gkQIECAQLOAABSA1ZUTgFVB8wQIECBAoFlAAArA6soJwKqgeQIECBAg0CwgAAVgdeUEYFXQPAECBAgQaBYQgAKwunICsCpongABAgQINAsIQAFYXTkBWBU0T4AAAQIEmgUEoACsrpwArAqaJ0CAAAECzQICUABWV04AVgXNEyBAgACBZgEBKACrKycAq4LmCRAgQIBAs4AAFIDVlROAVUHzBAgQIECgWUAACsDqygnAqqB5AgQIECDQLCAABWB15QRgVdA8AQIECBBoFhCAArC6cgKwKmieAAECBAg0CwhAAVhdOQFYFTRPgAABAgSaBQSgAKyunACsCponQIAAAQLNAgJQAFZXTgBWBc0TIECAAIFmAQEoAKsrJwCrguYJECBAgECzgAAUgNWVE4BVQfMECBAgQKBZQAAKwOrKCcCqoHkCBAgQINAsIAAFYHXlBGBV0DwBAgQIEGgWEIACsLpyArAqaJ4AAQIECDQLCEABWF05AVgVNE+AAAECBJoFBKAArK6cAKwKmidAgAABAs0CAlAAVldOAFYFzRMgQIAAgWYBASgAqysnAKuC5gkQIECAQLOAABSA1ZUTgFVB8wQIECBAoFlAAArA6soJwKqgeQIECBAg0CwgAAVgdeUEYFXQPAECBAgQaBYQgAKwunICsCpongABAgQINAsIQAFYXTkBWBU0T4AAAQIEmgUEoACsrpwArAqaJ0CAAAECzQICUABWV04AVgXNEyBAgACBZgEBKACrKycAq4LmCRAgQIBAs4AAFIDVlROAVUHzBAgQIECgWUAACsDqygnAqqB5AgQIECDQLCAABWB15QRgVdA8AQIECBBoFhCAArC6cgKwKmieAAECBAg0CwhAAVhduT0H4Pb2djY2Nqqfz3wSlqtZA46rcRy3wpLl6gRWc0t28vEdBaAArL7S9hyAN954Y44ePVr9fOaTsFzNGnBcjeO4FZYsVyewmluykwLwdJt01umu4M8fV0AAPgEL4i+21aBzXI2jAFydI8vVWXp9C8DTbZMAPJ3Q4//5iQB88MEH89Snjl+e+nLTTTfltttuq3020ycEWK5mETiuxtFOrs6R5eosvb5PH4AXXnjhuNK5SY6tTv7w3JIArD1XX5HkE7WbME2AAAECBAg8QQIXJPmDJ+hzP6GfVgDW+Iff+Uk+VbsZ0wQIECBAgECzwDlJHkryuebPeyA+nQA8EE+DO0GAAAECBAgQ6BMQgH3WPhMBAgQIECBA4EAICMAD8TS4EwQIECBAgACBPgEBeObWNyf57ukMol9P8uokD5zi5s5LcneSF0/vNbgvyeY4g3jh+i9LcmuSr0zy+0l+MMk7zvzuHarJVVpel+R7klw6WX9osvyPh0rkzO7sKh0X78ENSe5K8sNJfujM7tqhm1q15Xij+T9OMn4a/JEkH0/yt5KM/Vz3y6ot/2GSv53kS6f3b40fsHrPuiMmWcZx/FvyoiRfl+S/JPnGXXzm/G/ODNbl9A9RAJ7eaLdrvC7J9yW5JsnvJXl9khEeX5vk07sMjOD7oiTX5vM/fPvt0/VeOl33ryZ5f5KXJ/mFJC9J8rbpRTvicp0vq7YcIf5fk4zg+5Mk1yf5R1MQrvOZXqt2PLlzY6f/7XSi09jNsevrflm15Z9L8htJfi7J+FlQn0zyNdOPnvgfa465asvxRfcw/OvTF9zPTfJL09+Zv7zGlss6virJ2K2rkzwzyXBavMz535w1XpPlHpoAXM7r5LU/mmR81fmj02984fSV6PdP4bZ4q09PMq4/XoQnv9q/PMlvTUf7xo+R+RdJxg8S/BsLg/8myf+ajjKe2b08HFOrttztUY9/cMdfiO88HCRndC/3w3Hs9Qemf3Bfm+RXZxKAq7YcX4CMI39/5Yye2cM9tGrL8Xfu+PFb377A8sEkP5vkjsNN9bj3fhnHxRt6Y5Ln73IEcM7/5qzxmiz30ATgcl7j2uOHRo6geE6SX1sY307yO0lGBC5extG8ccTvyTt+fxydGofgf3E6OvAz07eITl7tpikIr1z+Lh6aif2w3Pngx1e69ye5ePrW+qHBWeKO7pfj+FbbJUm+K8m/m0kA7oflf07yselbv+NIzDgyM47wjyNZjy3xPB+2q+6H5QuT/OR0ZOu3kzxvir/hOv7+XcfLso57CcBxRHqO/+as436c8WMSgMvTjR8dPv4yH+8x+92F8RF546eJj/efLV5eMX1l+uU7fv8Px/+FaJKfTvLfpuv82MJ1vnf68xEu63rZD8tFq3H746jVv1zzI1f74fis6Yjp+N/xBc9cAnA/LMfr+y8kGX8XjH90x/uyxhd+433Bt6/rizvJflgOrlum9/WOeB4f4z2q/4zjrgKnOgI4139z1nhNln9oAnB5s1N9NfaeJOMr0h/YcZN7PQI4voXxpoXZOR8BrFieJLwoyXhP0PgH9+8v/zQfqolV7+Q4mj3ee/qGhRORxntUR0yv+0kgq7Y8eYT/T6fvGpxcrLGT4z3Azz5Um7bcnd0Py3Fyw3hf23ck+UiSy5L8/BTSi19AL3dPD/a1l3VcfDSnCsBxBHCO/+Yc7Ge6+d4JwDMDH3/xjLMiT74H8EnTewDH+6R+asdN7vYewPF+wN9ceA/gvdO3lhffAzjOAP6fSf7Omd3FQzO1asvxwMd7LMcbw7emM1cPDUbhjq7ScezzuL0/Xrg/4x+hzy78o1u4qwd+dJWW4z2+/zzJ1+8IwH+Q5Nt2/N6BhzmDO7hqy/E+6h9P8k8W7st4P/Z4q8I463VdL8s47iUA5/xvzrruyNKPSwAuTXZiYBzlG2cBj79wxgtznBk53ic1zpj8zC43OY4CjLOAx1m+J88CfmQ6AjCufvKMrPFjIcYZw+MfhvE+l3Hq/rqfBbxqy6umb6+Nr3x/5Mye3kM5tUrHL0iy+JaFsbPjDNbxntdxlPqPDqXQ3u/0Ki3HZ70iyX+aflLAv55iZbzOR8SMLyTX+bJqy3HywjOS/M3pR+mMt+K8a3orzTqfob6s4/gibnyM9/F+03QiyHgdj/eez/3fnHV+vS312ATgUlz/35XHz2Qa7/cbZ++Os9DGz/UbPwdw/By/8b/j2xTjDMpxWfw5gOO/x19Y4/rjPYMnL+OEkHG24FdNZw3P7ecArsryfdOPPPjfO57a8TPsFr/FfubP/MGdXPVOLj7SubwH8ORjXrXlt0wnfXx1kvH+3/Fz68ZZq3P4/yBdpeU4Ej3cxhff49fjKPWI6nFEdRyhXufLMo4/MX3BMTzGjo1/68f/jjP7/ZuzzluyxGMTgEtguSoBAgQIECBAYB0EBOA6PIseAwECBAgQIEBgCQEBuASWqxIgQIAAAQIE1kFAAK7Ds+gxECBAgAABAgSWEBCAS2C5KgECBAgQIEBgHQQE4Do8ix4DAQIECBAgQGAJAQG4BJarEiBAgAABAgTWQUAArsOz6DEQIECAAAECBJYQEIBLYLkqAQIECBAgQGAdBATgOjyLHgMBAgQIECBAYAkBAbgElqsSIECAAAECBNZBQACuw7PoMRAgQIAAAQIElhAQgEtguSoBAgQIECBAYB0EBOA6PIseAwECBAgQIEBgCQEBuASWqxIgQIAAAQIE1kFAAK7Ds+gxECBAgAABAgSWEBCAS2C5KgECBAgQIEBgHQQE4Do8ix4DAQIECBAgQGAJAQG4BJarEiBAgAABAgTWQUAArsOz6DEQIECAAAECBJYQEIBLYLkqAQIECBAgQGAdBATgOjyLHgMBAgQIECBAYAkBAbgElqsSIECAAAECBNZBQACuw7PoMRAgQIAAAQIElhAQgEtguSoBAgQIECBAYB0EBOA6PIseAwECBAgQIEBgCQEBuASWqxIgQIAAAQIE1kFAAK7Ds+gxECBAgAABAgSWEBCAS2C5KgECBAgQIEBgHQQE4Do8ix4DAQIECBAgQGAJAQG4BJarEiBAgAABAgTWQUAArsOz6DEQIECAAAECBJYQEIBLYLkqAQIECBAgQGAdBATgOjyLHgMBAgQIECBAYAmB/wvSokjRV9Fj2wAAAABJRU5ErkJggg==\">"
      ],
      "text/plain": [
       "<IPython.core.display.HTML object>"
      ]
     },
     "metadata": {},
     "output_type": "display_data"
    },
    {
     "data": {
      "text/plain": [
       "[<matplotlib.lines.Line2D object at 0x1085b1ac8>]"
      ]
     },
     "execution_count": 29,
     "metadata": {},
     "output_type": "execute_result"
    }
   ],
   "source": [
    "\n",
    "google.refresh()\n",
    "plot(google.get_price())"
   ]
  },
  {
   "cell_type": "code",
   "execution_count": 33,
   "metadata": {
    "collapsed": false
   },
   "outputs": [
    {
     "data": {
      "image/png": "[encoded data removed]",
      "text/plain": [
       "<matplotlib.figure.Figure object at 0x10836b898>"
      ]
     },
     "metadata": {},
     "output_type": "display_data"
    }
   ],
   "source": [
    "import matplotlib.pyplot as plt\n",
    "%matplotlib inline\n",
    "list_numbers = [1,4,5,3,2]\n",
    "plt.plot(list_numbers)\n",
    "plt.show()"
   ]
  },
  {
   "cell_type": "markdown",
   "metadata": {},
   "source": []
  },
  {
   "cell_type": "code",
   "execution_count": 36,
   "metadata": {
    "collapsed": false
   },
   "outputs": [
    {
     "data": {
      "image/png": "[encoded data removed]",
      "text/plain": [
       "<matplotlib.figure.Figure object at 0x10a994358>"
      ]
     },
     "metadata": {},
     "output_type": "display_data"
    }
   ],
   "source": [
    "for i in range(100):\n",
    "    google.refresh()\n",
    "    plt.plot(google.get_price())\n",
    "plt.show()"
   ]
  },
  {
   "cell_type": "code",
   "execution_count": 39,
   "metadata": {
    "collapsed": false
   },
   "outputs": [],
   "source": [
    "import matplotlib.pyplot as plt\n",
    "import numpy as np\n",
    "import plotly.plotly as py"
   ]
  },
  {
   "cell_type": "markdown",
   "metadata": {},
   "source": []
  },
  {
   "cell_type": "code",
   "execution_count": 40,
   "metadata": {
    "collapsed": true
   },
   "outputs": [],
   "source": [
    "from plotly.graph_objs import *"
   ]
  },
  {
   "cell_type": "code",
   "execution_count": 41,
   "metadata": {
    "collapsed": true
   },
   "outputs": [],
   "source": [
    "trace1 = Scatter(x=[],y=[], stream=dict(token='my_stream_id'))\n",
    "data = Data([trace1])\n",
    "s = py.Stream('my_stream_id')\n",
    "s.open()\n",
    "s.write(dict(x=1, y=2))\n",
    "s.close()"
   ]
  },
  {
   "cell_type": "code",
   "execution_count": 42,
   "metadata": {
    "collapsed": false
   },
   "outputs": [
    {
     "ename": "NameError",
     "evalue": "name 'plotly' is not defined",
     "output_type": "error",
     "traceback": [
      "\u001b[0;31m---------------------------------------------------------------------------\u001b[0m",
      "\u001b[0;31mNameError\u001b[0m                                 Traceback (most recent call last)",
      "\u001b[0;32m<ipython-input-42-016655de4011>\u001b[0m in \u001b[0;36m<module>\u001b[0;34m()\u001b[0m\n\u001b[0;32m----> 1\u001b[0;31m \u001b[0mplotly\u001b[0m\u001b[0;34m.\u001b[0m\u001b[0m__version__\u001b[0m\u001b[0;34m\u001b[0m\u001b[0m\n\u001b[0m",
      "\u001b[0;31mNameError\u001b[0m: name 'plotly' is not defined"
     ]
    }
   ],
   "source": [
    "plotly.__version__"
   ]
  },
  {
   "cell_type": "code",
   "execution_count": 43,
   "metadata": {
    "collapsed": false
   },
   "outputs": [
    {
     "ename": "AttributeError",
     "evalue": "'module' object has no attribute '__version__'",
     "output_type": "error",
     "traceback": [
      "\u001b[0;31m---------------------------------------------------------------------------\u001b[0m",
      "\u001b[0;31mAttributeError\u001b[0m                            Traceback (most recent call last)",
      "\u001b[0;32m<ipython-input-43-cb9d96e7ce05>\u001b[0m in \u001b[0;36m<module>\u001b[0;34m()\u001b[0m\n\u001b[0;32m----> 1\u001b[0;31m \u001b[0mpy\u001b[0m\u001b[0;34m.\u001b[0m\u001b[0m__version__\u001b[0m\u001b[0;34m\u001b[0m\u001b[0m\n\u001b[0m",
      "\u001b[0;31mAttributeError\u001b[0m: 'module' object has no attribute '__version__'"
     ]
    }
   ],
   "source": [
    "py.__version__"
   ]
  },
  {
   "cell_type": "code",
   "execution_count": null,
   "metadata": {
    "collapsed": false
   },
   "outputs": [
    {
     "data": {
      "image/png": "[encoded data removed]",
      "text/plain": [
       "<matplotlib.figure.Figure object at 0x109a8a470>"
      ]
     },
     "metadata": {},
     "output_type": "display_data"
    }
   ],
   "source": [
    "import matplotlib.pyplot as plt\n",
    "import numpy as np\n",
    "import time\n",
    "\n",
    "fig = plt.figure()\n",
    "ax = fig.add_subplot(111)\n",
    "\n",
    "x = np.arange(10000)\n",
    "y = np.random.randn(10000)\n",
    "\n",
    "li, = ax.plot(x,y)\n",
    "\n",
    "fig.canvas.draw()\n",
    "plt.show()\n",
    "\n",
    "while True:\n",
    "    try:\n",
    "        y[:-10] = y[10:]\n",
    "        y[-10:] = np.random.randn(10)\n",
    "        \n",
    "        li.set_ydata(y)\n",
    "        \n",
    "        fig.canvas.draw()\n",
    "        \n",
    "        time.sleep(0.01)\n",
    "    except KeyboardInterrupt:\n",
    "        break"
   ]
  },
  {
   "cell_type": "code",
   "execution_count": null,
   "metadata": {
    "collapsed": true
   },
   "outputs": [],
   "source": [
    "import matplotlib.pyplot as plt\n",
    "import numpy as np\n",
    "import time\n",
    "\n",
    "fig = plt.figure()\n",
    "ax = fig.add_subplot(111)\n",
    "\n",
    "x = np.arange(10000)\n",
    "y = np.random.randn(10000)\n",
    "\n",
    "li, = ax.plot(x,y)\n",
    "\n",
    "fig.canvas.draw()\n",
    "plt.show()\n",
    "\n",
    "while True:\n",
    "    try:\n",
    "        y[:-10] = y[10:]\n",
    "        y[-10:] = np.random.randn(10)\n",
    "        \n",
    "        li.set_ydata(y)\n",
    "        \n",
    "        fig.canvas.draw()\n",
    "        \n",
    "        time.sleep(0.01)\n",
    "    except KeyboardInterrupt:\n",
    "        break"
   ]
  },
  {
   "cell_type": "code",
   "execution_count": null,
   "metadata": {
    "collapsed": true
   },
   "outputs": [],
   "source": []
  }
 ],
 "metadata": {
  "kernelspec": {
   "display_name": "Python 3",
   "language": "python",
   "name": "python3"
  },
  "language_info": {
   "codemirror_mode": {
    "name": "ipython",
    "version": 3
   },
   "file_extension": ".py",
   "mimetype": "text/x-python",
   "name": "python",
   "nbconvert_exporter": "python",
   "pygments_lexer": "ipython3",
   "version": "3.4.3"
  }
 },
 "nbformat": 4,
 "nbformat_minor": 0
}
